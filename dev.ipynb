{
 "cells": [
  {
   "cell_type": "code",
   "execution_count": 1,
   "metadata": {},
   "outputs": [],
   "source": [
    "# enable autoreload\n",
    "%load_ext autoreload\n",
    "%autoreload 2\n",
    "\n",
    "from TorchMetricLogger import TorchMetricLogger as TML\n",
    "from TorchMetricLogger import TmlF1, TmlHistogram\n",
    "import torch"
   ]
  },
  {
   "cell_type": "code",
   "execution_count": 2,
   "metadata": {},
   "outputs": [
    {
     "data": {
      "text/plain": [
       "(array([12, 27, 22, 16, 24, 15, 14, 28, 18, 24]),\n",
       " array([0.00547985, 0.10447088, 0.2034619 , 0.30245293, 0.40144396,\n",
       "        0.50043499, 0.59942602, 0.69841704, 0.79740807, 0.8963991 ,\n",
       "        0.99539013]))"
      ]
     },
     "execution_count": 2,
     "metadata": {},
     "output_type": "execute_result"
    },
    {
     "data": {
      "image/png": "[encoded data removed]",
      "text/plain": [
       "<Figure size 432x288 with 1 Axes>"
      ]
     },
     "metadata": {
      "needs_background": "light"
     },
     "output_type": "display_data"
    }
   ],
   "source": [
    "import numpy as np\n",
    "import matplotlib.pyplot as plt\n",
    "\n",
    "arr = np.random.rand(100, 2)\n",
    "\n",
    "plt.hist(arr)\n",
    "np.histogram(arr)"
   ]
  },
  {
   "cell_type": "code",
   "execution_count": 3,
   "metadata": {},
   "outputs": [
    {
     "name": "stderr",
     "output_type": "stream",
     "text": [
      "Failed to detect the name of this notebook, you can set it manually with the WANDB_NOTEBOOK_NAME environment variable to enable code saving.\n",
      "\u001b[34m\u001b[1mwandb\u001b[0m: Currently logged in as: \u001b[33mp-sodmann\u001b[0m (\u001b[33minexen\u001b[0m). Use \u001b[1m`wandb login --relogin`\u001b[0m to force relogin\n"
     ]
    },
    {
     "data": {
      "text/html": [
       "wandb version 0.15.2 is available!  To upgrade, please run:\n",
       " $ pip install wandb --upgrade"
      ],
      "text/plain": [
       "<IPython.core.display.HTML object>"
      ]
     },
     "metadata": {},
     "output_type": "display_data"
    },
    {
     "data": {
      "text/html": [
       "Tracking run with wandb version 0.13.2"
      ],
      "text/plain": [
       "<IPython.core.display.HTML object>"
      ]
     },
     "metadata": {},
     "output_type": "display_data"
    },
    {
     "data": {
      "text/html": [
       "Run data is saved locally in <code>/media/lux_t1/BigHDD/phil/tml/TorchMetricLogger/wandb/run-20230510_110637-3efyh05e</code>"
      ],
      "text/plain": [
       "<IPython.core.display.HTML object>"
      ]
     },
     "metadata": {},
     "output_type": "display_data"
    },
    {
     "data": {
      "text/html": [
       "Syncing run <strong><a href=\"https://wandb.ai/inexen/test_torchmetriclogger/runs/3efyh05e\" target=\"_blank\">crisp-music-8</a></strong> to <a href=\"https://wandb.ai/inexen/test_torchmetriclogger\" target=\"_blank\">Weights & Biases</a> (<a href=\"https://wandb.me/run\" target=\"_blank\">docs</a>)<br/>"
      ],
      "text/plain": [
       "<IPython.core.display.HTML object>"
      ]
     },
     "metadata": {},
     "output_type": "display_data"
    },
    {
     "data": {
      "text/html": [
       "<button onClick=\"this.nextSibling.style.display='block';this.style.display='none';\">Display W&B run</button><iframe src=\"https://wandb.ai/inexen/test_torchmetriclogger/runs/3efyh05e?jupyter=true\" style=\"border:none;width:100%;height:420px;display:none;\"></iframe>"
      ],
      "text/plain": [
       "<wandb.sdk.wandb_run.Run at 0x7fc5010068b0>"
      ]
     },
     "execution_count": 3,
     "metadata": {},
     "output_type": "execute_result"
    }
   ],
   "source": [
    "import wandb\n",
    "\n",
    "wandb.init(project=\"test_torchmetriclogger\", entity=\"inexen\")"
   ]
  },
  {
   "cell_type": "code",
   "execution_count": 17,
   "metadata": {},
   "outputs": [
    {
     "name": "stdout",
     "output_type": "stream",
     "text": [
      "reduce histogram\n"
     ]
    }
   ],
   "source": [
    "tml = TML(log_function=wandb.log)\n",
    "\n",
    "p_1d = torch.ones((100, 2))\n",
    "y_1d = torch.ones((100, 2))\n",
    "\n",
    "p_1d[:, 0] = torch.randn(100)\n",
    "y_1d[0:50, 0] = 0\n",
    "y_1d[0, 1] = 0\n",
    "\n",
    "def histogram_log_function(result_dict):\n",
    "    np_hist_scores = {key: np.histogram(result_dict[key], range=(0., 1.), bins=25) for key in result_dict.keys()}\n",
    "\n",
    "    return {\n",
    "        key: wandb.Histogram(np_histogram=np_hist_scores[key]) for key in result_dict.keys()\n",
    "    }\n",
    "\n",
    "tml(\n",
    "    miau=TmlHistogram(p_1d, y_1d, class_names=[\"0\", \"1\"], log_function=histogram_log_function),\n",
    ")\n",
    "\n",
    "result = tml.on_batch_end()"
   ]
  },
  {
   "cell_type": "code",
   "execution_count": 7,
   "metadata": {},
   "outputs": [
    {
     "data": {
      "text/plain": [
       "'miau_1_neg'"
      ]
     },
     "execution_count": 7,
     "metadata": {},
     "output_type": "execute_result"
    }
   ],
   "source": [
    "key"
   ]
  },
  {
   "cell_type": "code",
   "execution_count": 11,
   "metadata": {},
   "outputs": [
    {
     "data": {
      "text/plain": [
       "(array([0, 0, 1, 0, 1, 0, 0, 0, 0, 0]),\n",
       " array([0. , 0.1, 0.2, 0.3, 0.4, 0.5, 0.6, 0.7, 0.8, 0.9, 1. ],\n",
       "       dtype=float32))"
      ]
     },
     "execution_count": 11,
     "metadata": {},
     "output_type": "execute_result"
    }
   ],
   "source": [
    "np_hist_scores"
   ]
  },
  {
   "cell_type": "code",
   "execution_count": 8,
   "metadata": {},
   "outputs": [
    {
     "data": {
      "text/plain": [
       "TmlHistogram(predictions=array([[0., 1.],\n",
       "       [0., 1.],\n",
       "       [0., 1.],\n",
       "       [0., 1.],\n",
       "       [0., 1.],\n",
       "       [1., 0.],\n",
       "       [1., 0.],\n",
       "       [1., 0.],\n",
       "       [1., 0.],\n",
       "       [1., 0.]], dtype=float32), gold_labels=array([[0., 0.],\n",
       "       [0., 1.],\n",
       "       [0., 1.],\n",
       "       [0., 1.],\n",
       "       [0., 1.],\n",
       "       [1., 1.],\n",
       "       [1., 1.],\n",
       "       [1., 1.],\n",
       "       [1., 1.],\n",
       "       [1., 1.]], dtype=float32), values=None, metric_class=None, class_names=['0', '1'], weights=None, is_metric=False)"
      ]
     },
     "execution_count": 8,
     "metadata": {},
     "output_type": "execute_result"
    }
   ],
   "source": [
    "tml.metrics[\"miau\"]"
   ]
  },
  {
   "cell_type": "code",
   "execution_count": 9,
   "metadata": {},
   "outputs": [
    {
     "ename": "NameError",
     "evalue": "name 'TMLF1' is not defined",
     "output_type": "error",
     "traceback": [
      "\u001b[0;31m---------------------------------------------------------------------------\u001b[0m",
      "\u001b[0;31mNameError\u001b[0m                                 Traceback (most recent call last)",
      "\u001b[1;32m/media/lux_t1/BigHDD/phil/tml/TorchMetricLogger/dev.ipynb Cell 9\u001b[0m in \u001b[0;36m<cell line: 6>\u001b[0;34m()\u001b[0m\n\u001b[1;32m      <a href='vscode-notebook-cell:/media/lux_t1/BigHDD/phil/tml/TorchMetricLogger/dev.ipynb#W3sZmlsZQ%3D%3D?line=2'>3</a>\u001b[0m p_1d \u001b[39m=\u001b[39m torch\u001b[39m.\u001b[39mones((\u001b[39m10\u001b[39m, \u001b[39m1\u001b[39m))\n\u001b[1;32m      <a href='vscode-notebook-cell:/media/lux_t1/BigHDD/phil/tml/TorchMetricLogger/dev.ipynb#W3sZmlsZQ%3D%3D?line=3'>4</a>\u001b[0m y_1d \u001b[39m=\u001b[39m torch\u001b[39m.\u001b[39mones((\u001b[39m10\u001b[39m, \u001b[39m1\u001b[39m))\n\u001b[1;32m      <a href='vscode-notebook-cell:/media/lux_t1/BigHDD/phil/tml/TorchMetricLogger/dev.ipynb#W3sZmlsZQ%3D%3D?line=5'>6</a>\u001b[0m tml(\n\u001b[0;32m----> <a href='vscode-notebook-cell:/media/lux_t1/BigHDD/phil/tml/TorchMetricLogger/dev.ipynb#W3sZmlsZQ%3D%3D?line=6'>7</a>\u001b[0m     miau\u001b[39m=\u001b[39mTMLF1(p_1d, y_1d, class_names\u001b[39m=\u001b[39m[\u001b[39m\"\u001b[39m\u001b[39m0\u001b[39m\u001b[39m\"\u001b[39m]),\n\u001b[1;32m      <a href='vscode-notebook-cell:/media/lux_t1/BigHDD/phil/tml/TorchMetricLogger/dev.ipynb#W3sZmlsZQ%3D%3D?line=7'>8</a>\u001b[0m )\n\u001b[1;32m     <a href='vscode-notebook-cell:/media/lux_t1/BigHDD/phil/tml/TorchMetricLogger/dev.ipynb#W3sZmlsZQ%3D%3D?line=9'>10</a>\u001b[0m tml(\n\u001b[1;32m     <a href='vscode-notebook-cell:/media/lux_t1/BigHDD/phil/tml/TorchMetricLogger/dev.ipynb#W3sZmlsZQ%3D%3D?line=10'>11</a>\u001b[0m     miau\u001b[39m=\u001b[39mTMLF1(p_1d, y_1d, class_names\u001b[39m=\u001b[39m[\u001b[39m\"\u001b[39m\u001b[39m0\u001b[39m\u001b[39m\"\u001b[39m]),\n\u001b[1;32m     <a href='vscode-notebook-cell:/media/lux_t1/BigHDD/phil/tml/TorchMetricLogger/dev.ipynb#W3sZmlsZQ%3D%3D?line=11'>12</a>\u001b[0m )\n\u001b[1;32m     <a href='vscode-notebook-cell:/media/lux_t1/BigHDD/phil/tml/TorchMetricLogger/dev.ipynb#W3sZmlsZQ%3D%3D?line=13'>14</a>\u001b[0m tml(\n\u001b[1;32m     <a href='vscode-notebook-cell:/media/lux_t1/BigHDD/phil/tml/TorchMetricLogger/dev.ipynb#W3sZmlsZQ%3D%3D?line=14'>15</a>\u001b[0m     miau\u001b[39m=\u001b[39mTMLF1(p_1d, y_1d, class_names\u001b[39m=\u001b[39m[\u001b[39m\"\u001b[39m\u001b[39m0\u001b[39m\u001b[39m\"\u001b[39m]),\n\u001b[1;32m     <a href='vscode-notebook-cell:/media/lux_t1/BigHDD/phil/tml/TorchMetricLogger/dev.ipynb#W3sZmlsZQ%3D%3D?line=15'>16</a>\u001b[0m )\n",
      "\u001b[0;31mNameError\u001b[0m: name 'TMLF1' is not defined"
     ]
    }
   ],
   "source": [
    "tml = TML()\n",
    "\n",
    "p_1d = torch.ones((10, 1))\n",
    "y_1d = torch.ones((10, 1))\n",
    "\n",
    "tml(\n",
    "    miau=TMLF1(p_1d, y_1d, class_names=[\"0\"]),\n",
    ")\n",
    "\n",
    "tml(\n",
    "    miau=TMLF1(p_1d, y_1d, class_names=[\"0\"]),\n",
    ")\n",
    "\n",
    "tml(\n",
    "    miau=TMLF1(p_1d, y_1d, class_names=[\"0\"]),\n",
    ")\n",
    "\n",
    "result = tml.on_batch_end()\n",
    "\n",
    "assert(result[\"miau\"][\"micro\"] == 1.0)\n",
    "assert (result[\"miau\"][\"precision\"] == 1.0)\n",
    "assert (result[\"miau\"][\"recall\"] == 1.0)\n",
    "assert (result[\"miau\"][\"tp\"] == 30)\n",
    "assert (result[\"miau\"][\"fp\"] == 0)\n",
    "assert (result[\"miau\"][\"fn\"] == 0)"
   ]
  },
  {
   "cell_type": "code",
   "execution_count": null,
   "metadata": {},
   "outputs": [
    {
     "ename": "AssertionError",
     "evalue": "",
     "output_type": "error",
     "traceback": [
      "\u001b[0;31m---------------------------------------------------------------------------\u001b[0m",
      "\u001b[0;31mAssertionError\u001b[0m                            Traceback (most recent call last)",
      "\u001b[1;32m/media/inexen/Extreme SSD/TML/TorchMetricLogger/dev.ipynb Cell 3\u001b[0m in \u001b[0;36m<cell line: 24>\u001b[0;34m()\u001b[0m\n\u001b[1;32m     <a href='vscode-notebook-cell:/media/inexen/Extreme%20SSD/TML/TorchMetricLogger/dev.ipynb#W2sZmlsZQ%3D%3D?line=21'>22</a>\u001b[0m \u001b[39massert\u001b[39;00m (result[\u001b[39m\"\u001b[39m\u001b[39mmiau\u001b[39m\u001b[39m\"\u001b[39m][\u001b[39m\"\u001b[39m\u001b[39mprecision\u001b[39m\u001b[39m\"\u001b[39m] \u001b[39m==\u001b[39m \u001b[39m0.5\u001b[39m)\n\u001b[1;32m     <a href='vscode-notebook-cell:/media/inexen/Extreme%20SSD/TML/TorchMetricLogger/dev.ipynb#W2sZmlsZQ%3D%3D?line=22'>23</a>\u001b[0m \u001b[39massert\u001b[39;00m (result[\u001b[39m\"\u001b[39m\u001b[39mmiau\u001b[39m\u001b[39m\"\u001b[39m][\u001b[39m\"\u001b[39m\u001b[39mrecall\u001b[39m\u001b[39m\"\u001b[39m] \u001b[39m==\u001b[39m \u001b[39m1.0\u001b[39m)\n\u001b[0;32m---> <a href='vscode-notebook-cell:/media/inexen/Extreme%20SSD/TML/TorchMetricLogger/dev.ipynb#W2sZmlsZQ%3D%3D?line=23'>24</a>\u001b[0m \u001b[39massert\u001b[39;00m (result[\u001b[39m\"\u001b[39m\u001b[39mmiau\u001b[39m\u001b[39m\"\u001b[39m][\u001b[39m\"\u001b[39m\u001b[39mtp\u001b[39m\u001b[39m\"\u001b[39m] \u001b[39m==\u001b[39m \u001b[39m30\u001b[39m)\n\u001b[1;32m     <a href='vscode-notebook-cell:/media/inexen/Extreme%20SSD/TML/TorchMetricLogger/dev.ipynb#W2sZmlsZQ%3D%3D?line=24'>25</a>\u001b[0m \u001b[39massert\u001b[39;00m (result[\u001b[39m\"\u001b[39m\u001b[39mmiau\u001b[39m\u001b[39m\"\u001b[39m][\u001b[39m\"\u001b[39m\u001b[39mfp\u001b[39m\u001b[39m\"\u001b[39m] \u001b[39m==\u001b[39m \u001b[39m0\u001b[39m)\n\u001b[1;32m     <a href='vscode-notebook-cell:/media/inexen/Extreme%20SSD/TML/TorchMetricLogger/dev.ipynb#W2sZmlsZQ%3D%3D?line=25'>26</a>\u001b[0m \u001b[39massert\u001b[39;00m (result[\u001b[39m\"\u001b[39m\u001b[39mmiau\u001b[39m\u001b[39m\"\u001b[39m][\u001b[39m\"\u001b[39m\u001b[39mfn\u001b[39m\u001b[39m\"\u001b[39m] \u001b[39m==\u001b[39m \u001b[39m0\u001b[39m)\n",
      "\u001b[0;31mAssertionError\u001b[0m: "
     ]
    }
   ],
   "source": [
    "tml = TML()\n",
    "\n",
    "p_1d = torch.ones((10, 1))\n",
    "y_1d = torch.ones((10, 1))\n",
    "y_1d[5:] = 0\n",
    "\n",
    "tml(\n",
    "    miau=TMLF1(p_1d, y_1d, class_names=[\"0\"]),\n",
    ")\n",
    "\n",
    "tml(\n",
    "    miau=TMLF1(p_1d, y_1d, class_names=[\"0\"]),\n",
    ")\n",
    "\n",
    "tml(\n",
    "    miau=TMLF1(p_1d, y_1d, class_names=[\"0\"]),\n",
    ")\n",
    "\n",
    "result = tml.on_batch_end()\n",
    "\n",
    "# assert (result[\"miau\"][\"micro\"] == 0.5)\n",
    "assert (result[\"miau\"][\"precision\"] == 0.5)\n",
    "assert (result[\"miau\"][\"recall\"] == 1.0)\n",
    "assert (result[\"miau\"][\"tp\"] == 15)\n",
    "assert (result[\"miau\"][\"fp\"] == 15)\n",
    "assert (result[\"miau\"][\"fn\"] == 0)"
   ]
  },
  {
   "cell_type": "code",
   "execution_count": null,
   "metadata": {},
   "outputs": [
    {
     "data": {
      "text/plain": [
       "{'miau': {'macro': 0.6666666666666666,\n",
       "  'precision': 0.5,\n",
       "  'recall': 1.0,\n",
       "  'micro': 0.6666666666666666,\n",
       "  'soft_micro': 0.6666666666666666,\n",
       "  'tp': 15,\n",
       "  'fp': 15,\n",
       "  'fn': 0},\n",
       " 'miau_0': {'macro': 0.6666666666666666,\n",
       "  'precision': 0.5,\n",
       "  'recall': 1.0,\n",
       "  'micro': 0.6666666666666666,\n",
       "  'soft_micro': 0.6666666666666666,\n",
       "  'tp': 15,\n",
       "  'fp': 15,\n",
       "  'fn': 0}}"
      ]
     },
     "execution_count": 20,
     "metadata": {},
     "output_type": "execute_result"
    }
   ],
   "source": [
    "result"
   ]
  },
  {
   "cell_type": "code",
   "execution_count": null,
   "metadata": {},
   "outputs": [],
   "source": []
  },
  {
   "cell_type": "code",
   "execution_count": null,
   "metadata": {},
   "outputs": [
    {
     "data": {
      "text/plain": [
       "defaultdict(list, {'mean': [0.9462365591397646]})"
      ]
     },
     "execution_count": 5,
     "metadata": {},
     "output_type": "execute_result"
    }
   ],
   "source": [
    "tml.metrics[\"miau\"].history"
   ]
  },
  {
   "cell_type": "code",
   "execution_count": null,
   "metadata": {},
   "outputs": [],
   "source": [
    "tml = TML()\n",
    "p_2d = torch.ones((10, 5))\n",
    "y_2d = torch.ones((10, 5))\n",
    "\n",
    "p_2d[0] = 0\n",
    "\n",
    "p_2d[3, 3] = 0\n",
    "\n",
    "w = torch.ones(10, 5)\n",
    "w[3,3] = 0\n",
    "\n",
    "tml(\n",
    "    miau=TmlMetric(p_2d, y_2d, class_names=[\"0\", \"1\", \"2\", \"3\", \"4\"], metric_class=TMLDiceCoefficient),\n",
    ")"
   ]
  },
  {
   "cell_type": "code",
   "execution_count": null,
   "metadata": {},
   "outputs": [],
   "source": [
    "tml(\n",
    "    miau=TmlMetric(p_2d, y_2d, class_names=[\"0\", \"1\", \"2\", \"3\", \"4\"], metric_class=TMLDiceCoefficient),\n",
    ")"
   ]
  },
  {
   "cell_type": "code",
   "execution_count": null,
   "metadata": {},
   "outputs": [
    {
     "data": {
      "text/plain": [
       "[7]"
      ]
     },
     "execution_count": 8,
     "metadata": {},
     "output_type": "execute_result"
    }
   ],
   "source": [
    "import numpy as np\n",
    "np.array([7]).tolist()"
   ]
  },
  {
   "cell_type": "code",
   "execution_count": null,
   "metadata": {},
   "outputs": [
    {
     "data": {
      "text/plain": [
       "dict_keys(['miau', 'miau_0', 'miau_1', 'miau_2', 'miau_3', 'miau_4'])"
      ]
     },
     "execution_count": 9,
     "metadata": {},
     "output_type": "execute_result"
    }
   ],
   "source": [
    "tml.metrics.keys()"
   ]
  },
  {
   "cell_type": "code",
   "execution_count": null,
   "metadata": {},
   "outputs": [
    {
     "data": {
      "text/plain": [
       "defaultdict(list,\n",
       "            {'metric': [0.5,\n",
       "              1.0,\n",
       "              1.0,\n",
       "              0.5,\n",
       "              1.0,\n",
       "              1.0,\n",
       "              1.0,\n",
       "              1.0,\n",
       "              1.0,\n",
       "              1.0,\n",
       "              0.5,\n",
       "              1.0,\n",
       "              1.0,\n",
       "              0.5,\n",
       "              1.0,\n",
       "              1.0,\n",
       "              1.0,\n",
       "              1.0,\n",
       "              1.0,\n",
       "              1.0],\n",
       "             'weights': [1.0,\n",
       "              1.0,\n",
       "              1.0,\n",
       "              1.0,\n",
       "              1.0,\n",
       "              1.0,\n",
       "              1.0,\n",
       "              1.0,\n",
       "              1.0,\n",
       "              1.0,\n",
       "              1.0,\n",
       "              1.0,\n",
       "              1.0,\n",
       "              1.0,\n",
       "              1.0,\n",
       "              1.0,\n",
       "              1.0,\n",
       "              1.0,\n",
       "              1.0,\n",
       "              1.0]})"
      ]
     },
     "execution_count": 10,
     "metadata": {},
     "output_type": "execute_result"
    }
   ],
   "source": [
    "tml.metrics[\"miau_3\"].partial"
   ]
  },
  {
   "cell_type": "code",
   "execution_count": null,
   "metadata": {},
   "outputs": [
    {
     "data": {
      "text/plain": [
       "{'mean': 0.9066666647791862, 'median': 1.0, 'min': 0.16666667, 'max': 1.0}"
      ]
     },
     "execution_count": 11,
     "metadata": {},
     "output_type": "execute_result"
    }
   ],
   "source": [
    "tml.metrics[\"miau\"].reduce()"
   ]
  },
  {
   "cell_type": "code",
   "execution_count": null,
   "metadata": {},
   "outputs": [
    {
     "data": {
      "text/plain": [
       "defaultdict(list,\n",
       "            {'mean': [0.9066666647791862],\n",
       "             'median': [1.0],\n",
       "             'min': [0.16666667],\n",
       "             'max': [1.0]})"
      ]
     },
     "execution_count": 12,
     "metadata": {},
     "output_type": "execute_result"
    }
   ],
   "source": [
    "tml.metrics[\"miau\"].history"
   ]
  },
  {
   "cell_type": "code",
   "execution_count": null,
   "metadata": {},
   "outputs": [
    {
     "data": {
      "text/plain": [
       "{'loss': {'mean': 1.0000000000000002, 'median': 1.0, 'min': 0.0, 'max': 2.0}}"
      ]
     },
     "execution_count": 13,
     "metadata": {},
     "output_type": "execute_result"
    }
   ],
   "source": [
    "from TorchMetricLogger import TorchMetricLogger as TML\n",
    "from TorchMetricLogger import TmlMetric, TmlMetricFunction, TMLBinaryAccuracy, TMLDiceCoefficient, TMLF1, TMLMean\n",
    "import torch\n",
    "import numpy as np\n",
    "\n",
    "# create a list of fake losses between 2 and 1\n",
    "loss = np.linspace(2.0, 0.0, num=50)\n",
    "\n",
    "tml = TML()\n",
    "\n",
    "# add them together as one batch\n",
    "for l in loss:\n",
    "    tml(loss=TmlMetric(None, l, TMLMean))\n",
    "\n",
    "tml.on_batch_end()\n",
    "\n",
    "# assert the average loss is 1\n",
    "#assert np.allclose(tml.metrics[\"loss\"].history, 1)"
   ]
  },
  {
   "cell_type": "code",
   "execution_count": null,
   "metadata": {},
   "outputs": [
    {
     "data": {
      "text/plain": [
       "defaultdict(list, {})"
      ]
     },
     "execution_count": 14,
     "metadata": {},
     "output_type": "execute_result"
    }
   ],
   "source": [
    "tml.metrics[\"loss\"].partial"
   ]
  },
  {
   "cell_type": "code",
   "execution_count": null,
   "metadata": {},
   "outputs": [],
   "source": []
  },
  {
   "cell_type": "code",
   "execution_count": null,
   "metadata": {},
   "outputs": [],
   "source": []
  }
 ],
 "metadata": {
  "kernelspec": {
   "display_name": "Python 3.8.10 64-bit",
   "language": "python",
   "name": "python3"
  },
  "language_info": {
   "codemirror_mode": {
    "name": "ipython",
    "version": 3
   },
   "file_extension": ".py",
   "mimetype": "text/x-python",
   "name": "python",
   "nbconvert_exporter": "python",
   "pygments_lexer": "ipython3",
   "version": "3.9.12"
  },
  "vscode": {
   "interpreter": {
    "hash": "31f2aee4e71d21fbe5cf8b01ff0e069b9275f58929596ceb00d14d90e3e16cd6"
   }
  }
 },
 "nbformat": 4,
 "nbformat_minor": 4
}
