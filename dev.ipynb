{
 "cells": [
  {
   "cell_type": "code",
   "execution_count": 1,
   "metadata": {},
   "outputs": [],
   "source": [
    "from TorchMetricLogger import TorchMetricLogger as TML\n",
    "from TorchMetricLogger import TMLF1\n",
    "import torch"
   ]
  },
  {
   "cell_type": "code",
   "execution_count": 14,
   "metadata": {},
   "outputs": [],
   "source": [
    "tml = TML()\n",
    "\n",
    "p_1d = torch.ones((10, 1))\n",
    "y_1d = torch.ones((10, 1))\n",
    "\n",
    "tml(\n",
    "    miau=TMLF1(p_1d, y_1d, class_names=[\"0\"]),\n",
    ")\n",
    "\n",
    "tml(\n",
    "    miau=TMLF1(p_1d, y_1d, class_names=[\"0\"]),\n",
    ")\n",
    "\n",
    "tml(\n",
    "    miau=TMLF1(p_1d, y_1d, class_names=[\"0\"]),\n",
    ")\n",
    "\n",
    "result = tml.on_batch_end()\n",
    "\n",
    "assert(result[\"miau\"][\"micro\"] == 1.0)\n",
    "assert (result[\"miau\"][\"precision\"] == 1.0)\n",
    "assert (result[\"miau\"][\"recall\"] == 1.0)\n",
    "assert (result[\"miau\"][\"tp\"] == 30)\n",
    "assert (result[\"miau\"][\"fp\"] == 0)\n",
    "assert (result[\"miau\"][\"fn\"] == 0)"
   ]
  },
  {
   "cell_type": "code",
   "execution_count": 22,
   "metadata": {},
   "outputs": [
    {
     "ename": "AssertionError",
     "evalue": "",
     "output_type": "error",
     "traceback": [
      "\u001b[0;31m---------------------------------------------------------------------------\u001b[0m",
      "\u001b[0;31mAssertionError\u001b[0m                            Traceback (most recent call last)",
      "\u001b[1;32m/media/inexen/Extreme SSD/TML/TorchMetricLogger/dev.ipynb Cell 3\u001b[0m in \u001b[0;36m<cell line: 24>\u001b[0;34m()\u001b[0m\n\u001b[1;32m     <a href='vscode-notebook-cell:/media/inexen/Extreme%20SSD/TML/TorchMetricLogger/dev.ipynb#W2sZmlsZQ%3D%3D?line=21'>22</a>\u001b[0m \u001b[39massert\u001b[39;00m (result[\u001b[39m\"\u001b[39m\u001b[39mmiau\u001b[39m\u001b[39m\"\u001b[39m][\u001b[39m\"\u001b[39m\u001b[39mprecision\u001b[39m\u001b[39m\"\u001b[39m] \u001b[39m==\u001b[39m \u001b[39m0.5\u001b[39m)\n\u001b[1;32m     <a href='vscode-notebook-cell:/media/inexen/Extreme%20SSD/TML/TorchMetricLogger/dev.ipynb#W2sZmlsZQ%3D%3D?line=22'>23</a>\u001b[0m \u001b[39massert\u001b[39;00m (result[\u001b[39m\"\u001b[39m\u001b[39mmiau\u001b[39m\u001b[39m\"\u001b[39m][\u001b[39m\"\u001b[39m\u001b[39mrecall\u001b[39m\u001b[39m\"\u001b[39m] \u001b[39m==\u001b[39m \u001b[39m1.0\u001b[39m)\n\u001b[0;32m---> <a href='vscode-notebook-cell:/media/inexen/Extreme%20SSD/TML/TorchMetricLogger/dev.ipynb#W2sZmlsZQ%3D%3D?line=23'>24</a>\u001b[0m \u001b[39massert\u001b[39;00m (result[\u001b[39m\"\u001b[39m\u001b[39mmiau\u001b[39m\u001b[39m\"\u001b[39m][\u001b[39m\"\u001b[39m\u001b[39mtp\u001b[39m\u001b[39m\"\u001b[39m] \u001b[39m==\u001b[39m \u001b[39m30\u001b[39m)\n\u001b[1;32m     <a href='vscode-notebook-cell:/media/inexen/Extreme%20SSD/TML/TorchMetricLogger/dev.ipynb#W2sZmlsZQ%3D%3D?line=24'>25</a>\u001b[0m \u001b[39massert\u001b[39;00m (result[\u001b[39m\"\u001b[39m\u001b[39mmiau\u001b[39m\u001b[39m\"\u001b[39m][\u001b[39m\"\u001b[39m\u001b[39mfp\u001b[39m\u001b[39m\"\u001b[39m] \u001b[39m==\u001b[39m \u001b[39m0\u001b[39m)\n\u001b[1;32m     <a href='vscode-notebook-cell:/media/inexen/Extreme%20SSD/TML/TorchMetricLogger/dev.ipynb#W2sZmlsZQ%3D%3D?line=25'>26</a>\u001b[0m \u001b[39massert\u001b[39;00m (result[\u001b[39m\"\u001b[39m\u001b[39mmiau\u001b[39m\u001b[39m\"\u001b[39m][\u001b[39m\"\u001b[39m\u001b[39mfn\u001b[39m\u001b[39m\"\u001b[39m] \u001b[39m==\u001b[39m \u001b[39m0\u001b[39m)\n",
      "\u001b[0;31mAssertionError\u001b[0m: "
     ]
    }
   ],
   "source": [
    "tml = TML()\n",
    "\n",
    "p_1d = torch.ones((10, 1))\n",
    "y_1d = torch.ones((10, 1))\n",
    "y_1d[5:] = 0\n",
    "\n",
    "tml(\n",
    "    miau=TMLF1(p_1d, y_1d, class_names=[\"0\"]),\n",
    ")\n",
    "\n",
    "tml(\n",
    "    miau=TMLF1(p_1d, y_1d, class_names=[\"0\"]),\n",
    ")\n",
    "\n",
    "tml(\n",
    "    miau=TMLF1(p_1d, y_1d, class_names=[\"0\"]),\n",
    ")\n",
    "\n",
    "result = tml.on_batch_end()\n",
    "\n",
    "# assert (result[\"miau\"][\"micro\"] == 0.5)\n",
    "assert (result[\"miau\"][\"precision\"] == 0.5)\n",
    "assert (result[\"miau\"][\"recall\"] == 1.0)\n",
    "assert (result[\"miau\"][\"tp\"] == 15)\n",
    "assert (result[\"miau\"][\"fp\"] == 15)\n",
    "assert (result[\"miau\"][\"fn\"] == 0)"
   ]
  },
  {
   "cell_type": "code",
   "execution_count": 20,
   "metadata": {},
   "outputs": [
    {
     "data": {
      "text/plain": [
       "{'miau': {'macro': 0.6666666666666666,\n",
       "  'precision': 0.5,\n",
       "  'recall': 1.0,\n",
       "  'micro': 0.6666666666666666,\n",
       "  'soft_micro': 0.6666666666666666,\n",
       "  'tp': 15,\n",
       "  'fp': 15,\n",
       "  'fn': 0},\n",
       " 'miau_0': {'macro': 0.6666666666666666,\n",
       "  'precision': 0.5,\n",
       "  'recall': 1.0,\n",
       "  'micro': 0.6666666666666666,\n",
       "  'soft_micro': 0.6666666666666666,\n",
       "  'tp': 15,\n",
       "  'fp': 15,\n",
       "  'fn': 0}}"
      ]
     },
     "execution_count": 20,
     "metadata": {},
     "output_type": "execute_result"
    }
   ],
   "source": [
    "result"
   ]
  },
  {
   "cell_type": "code",
   "execution_count": null,
   "metadata": {},
   "outputs": [],
   "source": []
  },
  {
   "cell_type": "code",
   "execution_count": 5,
   "metadata": {},
   "outputs": [
    {
     "data": {
      "text/plain": [
       "defaultdict(list, {'mean': [0.9462365591397646]})"
      ]
     },
     "execution_count": 5,
     "metadata": {},
     "output_type": "execute_result"
    }
   ],
   "source": [
    "tml.metrics[\"miau\"].history"
   ]
  },
  {
   "cell_type": "code",
   "execution_count": 6,
   "metadata": {},
   "outputs": [],
   "source": [
    "tml = TML()\n",
    "p_2d = torch.ones((10, 5))\n",
    "y_2d = torch.ones((10, 5))\n",
    "\n",
    "p_2d[0] = 0\n",
    "\n",
    "p_2d[3, 3] = 0\n",
    "\n",
    "w = torch.ones(10, 5)\n",
    "w[3,3] = 0\n",
    "\n",
    "tml(\n",
    "    miau=TmlMetric(p_2d, y_2d, class_names=[\"0\", \"1\", \"2\", \"3\", \"4\"], metric_class=TMLDiceCoefficient),\n",
    ")"
   ]
  },
  {
   "cell_type": "code",
   "execution_count": 7,
   "metadata": {},
   "outputs": [],
   "source": [
    "tml(\n",
    "    miau=TmlMetric(p_2d, y_2d, class_names=[\"0\", \"1\", \"2\", \"3\", \"4\"], metric_class=TMLDiceCoefficient),\n",
    ")"
   ]
  },
  {
   "cell_type": "code",
   "execution_count": 8,
   "metadata": {},
   "outputs": [
    {
     "data": {
      "text/plain": [
       "[7]"
      ]
     },
     "execution_count": 8,
     "metadata": {},
     "output_type": "execute_result"
    }
   ],
   "source": [
    "import numpy as np\n",
    "np.array([7]).tolist()"
   ]
  },
  {
   "cell_type": "code",
   "execution_count": 9,
   "metadata": {},
   "outputs": [
    {
     "data": {
      "text/plain": [
       "dict_keys(['miau', 'miau_0', 'miau_1', 'miau_2', 'miau_3', 'miau_4'])"
      ]
     },
     "execution_count": 9,
     "metadata": {},
     "output_type": "execute_result"
    }
   ],
   "source": [
    "tml.metrics.keys()"
   ]
  },
  {
   "cell_type": "code",
   "execution_count": 10,
   "metadata": {},
   "outputs": [
    {
     "data": {
      "text/plain": [
       "defaultdict(list,\n",
       "            {'metric': [0.5,\n",
       "              1.0,\n",
       "              1.0,\n",
       "              0.5,\n",
       "              1.0,\n",
       "              1.0,\n",
       "              1.0,\n",
       "              1.0,\n",
       "              1.0,\n",
       "              1.0,\n",
       "              0.5,\n",
       "              1.0,\n",
       "              1.0,\n",
       "              0.5,\n",
       "              1.0,\n",
       "              1.0,\n",
       "              1.0,\n",
       "              1.0,\n",
       "              1.0,\n",
       "              1.0],\n",
       "             'weights': [1.0,\n",
       "              1.0,\n",
       "              1.0,\n",
       "              1.0,\n",
       "              1.0,\n",
       "              1.0,\n",
       "              1.0,\n",
       "              1.0,\n",
       "              1.0,\n",
       "              1.0,\n",
       "              1.0,\n",
       "              1.0,\n",
       "              1.0,\n",
       "              1.0,\n",
       "              1.0,\n",
       "              1.0,\n",
       "              1.0,\n",
       "              1.0,\n",
       "              1.0,\n",
       "              1.0]})"
      ]
     },
     "execution_count": 10,
     "metadata": {},
     "output_type": "execute_result"
    }
   ],
   "source": [
    "tml.metrics[\"miau_3\"].partial"
   ]
  },
  {
   "cell_type": "code",
   "execution_count": 11,
   "metadata": {},
   "outputs": [
    {
     "data": {
      "text/plain": [
       "{'mean': 0.9066666647791862, 'median': 1.0, 'min': 0.16666667, 'max': 1.0}"
      ]
     },
     "execution_count": 11,
     "metadata": {},
     "output_type": "execute_result"
    }
   ],
   "source": [
    "tml.metrics[\"miau\"].reduce()"
   ]
  },
  {
   "cell_type": "code",
   "execution_count": 12,
   "metadata": {},
   "outputs": [
    {
     "data": {
      "text/plain": [
       "defaultdict(list,\n",
       "            {'mean': [0.9066666647791862],\n",
       "             'median': [1.0],\n",
       "             'min': [0.16666667],\n",
       "             'max': [1.0]})"
      ]
     },
     "execution_count": 12,
     "metadata": {},
     "output_type": "execute_result"
    }
   ],
   "source": [
    "tml.metrics[\"miau\"].history"
   ]
  },
  {
   "cell_type": "code",
   "execution_count": 13,
   "metadata": {},
   "outputs": [
    {
     "data": {
      "text/plain": [
       "{'loss': {'mean': 1.0000000000000002, 'median': 1.0, 'min': 0.0, 'max': 2.0}}"
      ]
     },
     "execution_count": 13,
     "metadata": {},
     "output_type": "execute_result"
    }
   ],
   "source": [
    "from TorchMetricLogger import TorchMetricLogger as TML\n",
    "from TorchMetricLogger import TmlMetric, TmlMetricFunction, TMLBinaryAccuracy, TMLDiceCoefficient, TMLF1, TMLMean\n",
    "import torch\n",
    "import numpy as np\n",
    "\n",
    "# create a list of fake losses between 2 and 1\n",
    "loss = np.linspace(2.0, 0.0, num=50)\n",
    "\n",
    "tml = TML()\n",
    "\n",
    "# add them together as one batch\n",
    "for l in loss:\n",
    "    tml(loss=TmlMetric(None, l, TMLMean))\n",
    "\n",
    "tml.on_batch_end()\n",
    "\n",
    "# assert the average loss is 1\n",
    "#assert np.allclose(tml.metrics[\"loss\"].history, 1)"
   ]
  },
  {
   "cell_type": "code",
   "execution_count": 14,
   "metadata": {},
   "outputs": [
    {
     "data": {
      "text/plain": [
       "defaultdict(list, {})"
      ]
     },
     "execution_count": 14,
     "metadata": {},
     "output_type": "execute_result"
    }
   ],
   "source": [
    "tml.metrics[\"loss\"].partial"
   ]
  },
  {
   "cell_type": "code",
   "execution_count": null,
   "metadata": {},
   "outputs": [],
   "source": []
  },
  {
   "cell_type": "code",
   "execution_count": null,
   "metadata": {},
   "outputs": [],
   "source": []
  }
 ],
 "metadata": {
  "kernelspec": {
   "display_name": "Python 3.8.10 64-bit",
   "language": "python",
   "name": "python3"
  },
  "language_info": {
   "codemirror_mode": {
    "name": "ipython",
    "version": 3
   },
   "file_extension": ".py",
   "mimetype": "text/x-python",
   "name": "python",
   "nbconvert_exporter": "python",
   "pygments_lexer": "ipython3",
   "version": "3.8.10"
  },
  "vscode": {
   "interpreter": {
    "hash": "31f2aee4e71d21fbe5cf8b01ff0e069b9275f58929596ceb00d14d90e3e16cd6"
   }
  }
 },
 "nbformat": 4,
 "nbformat_minor": 4
}
