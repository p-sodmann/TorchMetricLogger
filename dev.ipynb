{
 "cells": [
  {
   "cell_type": "code",
   "execution_count": 1,
   "metadata": {},
   "outputs": [],
   "source": [
    "from TorchMetricLogger import TorchMetricLogger as TML\n",
    "from TorchMetricLogger import TMLF1\n",
    "import torch"
   ]
  },
  {
   "cell_type": "code",
   "execution_count": 5,
   "metadata": {},
   "outputs": [],
   "source": [
    "tml = TML()\n",
    "\n",
    "p_1d = torch.ones((10, 5))\n",
    "y_1d = torch.ones((10, 5))\n",
    "\n",
    "p_1d[:, 3:] = 0\n",
    "\n",
    "p_2d = torch.ones((10, 5))\n",
    "y_2d = torch.ones((10, 5))\n",
    "\n",
    "p_2d[0] = 0\n",
    "\n",
    "p_2d[3, 3] = 0\n",
    "\n",
    "w = torch.ones(10, 5)\n",
    "w[3,3] = 0\n",
    "\n",
    "p_2d[:, 0] = 0\n",
    "\n",
    "tml(\n",
    "    miau=TMLF1(p_2d, y_2d, class_names=[\"0\", \"1\", \"2\", \"3\", \"4\"]),\n",
    ")"
   ]
  },
  {
   "cell_type": "code",
   "execution_count": 6,
   "metadata": {},
   "outputs": [],
   "source": [
    "tml(\n",
    "    miau=TMLF1(p_2d, y_2d, class_names=[\"0\", \"1\", \"2\", \"3\", \"4\"]),\n",
    ")"
   ]
  },
  {
   "cell_type": "code",
   "execution_count": 7,
   "metadata": {},
   "outputs": [
    {
     "data": {
      "text/plain": [
       "{'miau': {'macro': 0.7461988304093568,\n",
       "  'precision': 1.0,\n",
       "  'recall': 0.7,\n",
       "  'micro': 0.8235294117647058,\n",
       "  'tp': 70,\n",
       "  'fp': 0,\n",
       "  'fn': 30},\n",
       " 'miau_0': {'macro': 0.0,\n",
       "  'precision': 0.0,\n",
       "  'recall': 0.0,\n",
       "  'micro': 0.0,\n",
       "  'tp': 0,\n",
       "  'fp': 0,\n",
       "  'fn': 20},\n",
       " 'miau_1': {'macro': 0.9473684210526315,\n",
       "  'precision': 1.0,\n",
       "  'recall': 0.9,\n",
       "  'micro': 0.9473684210526315,\n",
       "  'tp': 18,\n",
       "  'fp': 0,\n",
       "  'fn': 2},\n",
       " 'miau_2': {'macro': 0.9473684210526315,\n",
       "  'precision': 1.0,\n",
       "  'recall': 0.9,\n",
       "  'micro': 0.9473684210526315,\n",
       "  'tp': 18,\n",
       "  'fp': 0,\n",
       "  'fn': 2},\n",
       " 'miau_3': {'macro': 0.8888888888888888,\n",
       "  'precision': 1.0,\n",
       "  'recall': 0.8,\n",
       "  'micro': 0.8888888888888888,\n",
       "  'tp': 16,\n",
       "  'fp': 0,\n",
       "  'fn': 4},\n",
       " 'miau_4': {'macro': 0.9473684210526315,\n",
       "  'precision': 1.0,\n",
       "  'recall': 0.9,\n",
       "  'micro': 0.9473684210526315,\n",
       "  'tp': 18,\n",
       "  'fp': 0,\n",
       "  'fn': 2}}"
      ]
     },
     "execution_count": 7,
     "metadata": {},
     "output_type": "execute_result"
    }
   ],
   "source": [
    "tml.on_batch_end()"
   ]
  },
  {
   "cell_type": "code",
   "execution_count": null,
   "metadata": {},
   "outputs": [],
   "source": []
  },
  {
   "cell_type": "code",
   "execution_count": 5,
   "metadata": {},
   "outputs": [
    {
     "data": {
      "text/plain": [
       "defaultdict(list, {'mean': [0.9462365591397646]})"
      ]
     },
     "execution_count": 5,
     "metadata": {},
     "output_type": "execute_result"
    }
   ],
   "source": [
    "tml.metrics[\"miau\"].history"
   ]
  },
  {
   "cell_type": "code",
   "execution_count": 6,
   "metadata": {},
   "outputs": [],
   "source": [
    "tml = TML()\n",
    "p_2d = torch.ones((10, 5))\n",
    "y_2d = torch.ones((10, 5))\n",
    "\n",
    "p_2d[0] = 0\n",
    "\n",
    "p_2d[3, 3] = 0\n",
    "\n",
    "w = torch.ones(10, 5)\n",
    "w[3,3] = 0\n",
    "\n",
    "tml(\n",
    "    miau=TmlMetric(p_2d, y_2d, class_names=[\"0\", \"1\", \"2\", \"3\", \"4\"], metric_class=TMLDiceCoefficient),\n",
    ")"
   ]
  },
  {
   "cell_type": "code",
   "execution_count": 7,
   "metadata": {},
   "outputs": [],
   "source": [
    "tml(\n",
    "    miau=TmlMetric(p_2d, y_2d, class_names=[\"0\", \"1\", \"2\", \"3\", \"4\"], metric_class=TMLDiceCoefficient),\n",
    ")"
   ]
  },
  {
   "cell_type": "code",
   "execution_count": 8,
   "metadata": {},
   "outputs": [
    {
     "data": {
      "text/plain": [
       "[7]"
      ]
     },
     "execution_count": 8,
     "metadata": {},
     "output_type": "execute_result"
    }
   ],
   "source": [
    "import numpy as np\n",
    "np.array([7]).tolist()"
   ]
  },
  {
   "cell_type": "code",
   "execution_count": 9,
   "metadata": {},
   "outputs": [
    {
     "data": {
      "text/plain": [
       "dict_keys(['miau', 'miau_0', 'miau_1', 'miau_2', 'miau_3', 'miau_4'])"
      ]
     },
     "execution_count": 9,
     "metadata": {},
     "output_type": "execute_result"
    }
   ],
   "source": [
    "tml.metrics.keys()"
   ]
  },
  {
   "cell_type": "code",
   "execution_count": 10,
   "metadata": {},
   "outputs": [
    {
     "data": {
      "text/plain": [
       "defaultdict(list,\n",
       "            {'metric': [0.5,\n",
       "              1.0,\n",
       "              1.0,\n",
       "              0.5,\n",
       "              1.0,\n",
       "              1.0,\n",
       "              1.0,\n",
       "              1.0,\n",
       "              1.0,\n",
       "              1.0,\n",
       "              0.5,\n",
       "              1.0,\n",
       "              1.0,\n",
       "              0.5,\n",
       "              1.0,\n",
       "              1.0,\n",
       "              1.0,\n",
       "              1.0,\n",
       "              1.0,\n",
       "              1.0],\n",
       "             'weights': [1.0,\n",
       "              1.0,\n",
       "              1.0,\n",
       "              1.0,\n",
       "              1.0,\n",
       "              1.0,\n",
       "              1.0,\n",
       "              1.0,\n",
       "              1.0,\n",
       "              1.0,\n",
       "              1.0,\n",
       "              1.0,\n",
       "              1.0,\n",
       "              1.0,\n",
       "              1.0,\n",
       "              1.0,\n",
       "              1.0,\n",
       "              1.0,\n",
       "              1.0,\n",
       "              1.0]})"
      ]
     },
     "execution_count": 10,
     "metadata": {},
     "output_type": "execute_result"
    }
   ],
   "source": [
    "tml.metrics[\"miau_3\"].partial"
   ]
  },
  {
   "cell_type": "code",
   "execution_count": 11,
   "metadata": {},
   "outputs": [
    {
     "data": {
      "text/plain": [
       "{'mean': 0.9066666647791862, 'median': 1.0, 'min': 0.16666667, 'max': 1.0}"
      ]
     },
     "execution_count": 11,
     "metadata": {},
     "output_type": "execute_result"
    }
   ],
   "source": [
    "tml.metrics[\"miau\"].reduce()"
   ]
  },
  {
   "cell_type": "code",
   "execution_count": 12,
   "metadata": {},
   "outputs": [
    {
     "data": {
      "text/plain": [
       "defaultdict(list,\n",
       "            {'mean': [0.9066666647791862],\n",
       "             'median': [1.0],\n",
       "             'min': [0.16666667],\n",
       "             'max': [1.0]})"
      ]
     },
     "execution_count": 12,
     "metadata": {},
     "output_type": "execute_result"
    }
   ],
   "source": [
    "tml.metrics[\"miau\"].history"
   ]
  },
  {
   "cell_type": "code",
   "execution_count": 13,
   "metadata": {},
   "outputs": [
    {
     "data": {
      "text/plain": [
       "{'loss': {'mean': 1.0000000000000002, 'median': 1.0, 'min': 0.0, 'max': 2.0}}"
      ]
     },
     "execution_count": 13,
     "metadata": {},
     "output_type": "execute_result"
    }
   ],
   "source": [
    "from TorchMetricLogger import TorchMetricLogger as TML\n",
    "from TorchMetricLogger import TmlMetric, TmlMetricFunction, TMLBinaryAccuracy, TMLDiceCoefficient, TMLF1, TMLMean\n",
    "import torch\n",
    "import numpy as np\n",
    "\n",
    "# create a list of fake losses between 2 and 1\n",
    "loss = np.linspace(2.0, 0.0, num=50)\n",
    "\n",
    "tml = TML()\n",
    "\n",
    "# add them together as one batch\n",
    "for l in loss:\n",
    "    tml(loss=TmlMetric(None, l, TMLMean))\n",
    "\n",
    "tml.on_batch_end()\n",
    "\n",
    "# assert the average loss is 1\n",
    "#assert np.allclose(tml.metrics[\"loss\"].history, 1)"
   ]
  },
  {
   "cell_type": "code",
   "execution_count": 14,
   "metadata": {},
   "outputs": [
    {
     "data": {
      "text/plain": [
       "defaultdict(list, {})"
      ]
     },
     "execution_count": 14,
     "metadata": {},
     "output_type": "execute_result"
    }
   ],
   "source": [
    "tml.metrics[\"loss\"].partial"
   ]
  },
  {
   "cell_type": "code",
   "execution_count": null,
   "metadata": {},
   "outputs": [],
   "source": []
  },
  {
   "cell_type": "code",
   "execution_count": null,
   "metadata": {},
   "outputs": [],
   "source": []
  }
 ],
 "metadata": {
  "kernelspec": {
   "display_name": "Python 3",
   "language": "python",
   "name": "python3"
  },
  "language_info": {
   "codemirror_mode": {
    "name": "ipython",
    "version": 3
   },
   "file_extension": ".py",
   "mimetype": "text/x-python",
   "name": "python",
   "nbconvert_exporter": "python",
   "pygments_lexer": "ipython3",
   "version": "3.8.8"
  }
 },
 "nbformat": 4,
 "nbformat_minor": 4
}
