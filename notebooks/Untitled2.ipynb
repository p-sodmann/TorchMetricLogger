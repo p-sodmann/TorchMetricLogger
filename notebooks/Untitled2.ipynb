{
 "cells": [
  {
   "cell_type": "code",
   "execution_count": 1,
   "metadata": {},
   "outputs": [
    {
     "data": {
      "text/plain": [
       "{'metric_name': {'mean': 3.857142857142857, 'median': 5.0, 'min': 1, 'max': 5}}"
      ]
     },
     "execution_count": 1,
     "metadata": {},
     "output_type": "execute_result"
    }
   ],
   "source": [
    "from TorchMetricLogger import TorchMetricLogger as TML\n",
    "from TorchMetricLogger import TmlMean, TMLBinaryAccuracy\n",
    "import torch\n",
    "import numpy as np\n",
    "\n",
    "\n",
    "tml = TML()\n",
    "\n",
    "tml(\n",
    "    metric_name = TmlMean(values=np.array([5,5,5,5,5]))\n",
    ")\n",
    "\n",
    "tml(\n",
    "    metric_name = TmlMean(values=np.array([1,1]))\n",
    ")\n",
    "\n",
    "tml.on_batch_end()"
   ]
  },
  {
   "cell_type": "code",
   "execution_count": 2,
   "metadata": {},
   "outputs": [
    {
     "data": {
      "text/plain": [
       "{'metric_name': {'mean': 4.846153846153846, 'median': 5.0, 'min': 1, 'max': 5}}"
      ]
     },
     "execution_count": 2,
     "metadata": {},
     "output_type": "execute_result"
    }
   ],
   "source": [
    "tml(\n",
    "    metric_name = TmlMean(\n",
    "        values=np.array([5,5,5,5,5]), \n",
    "        weights=np.array([10, 10, 10, 10, 10])\n",
    "    )\n",
    ")\n",
    "\n",
    "tml(\n",
    "    metric_name = TmlMean(values=np.array([1,1]), weights=np.array([1, 1]))\n",
    ")\n",
    "\n",
    "tml.on_batch_end()"
   ]
  },
  {
   "cell_type": "code",
   "execution_count": 8,
   "metadata": {},
   "outputs": [
    {
     "data": {
      "text/plain": [
       "{'metric_name': {'mean': 0.8333333333333334,\n",
       "  'median': 1.0,\n",
       "  'min': False,\n",
       "  'max': True},\n",
       " 'metric_name_hot dog': {'mean': 1.0, 'median': 1.0, 'min': True, 'max': True},\n",
       " 'metric_name_not hot dog': {'mean': 0.6666666666666666,\n",
       "  'median': 1.0,\n",
       "  'min': False,\n",
       "  'max': True}}"
      ]
     },
     "execution_count": 8,
     "metadata": {},
     "output_type": "execute_result"
    }
   ],
   "source": [
    "tml = TML()\n",
    "\n",
    "tml(\n",
    "    metric_name = TMLBinaryAccuracy(\n",
    "        gold_labels=np.array([[1,0],[1,0],[0,0]]), \n",
    "        predictions=np.array([[1,0],[1,0],[0,1]]),\n",
    "        class_names=[\"hot dog\", \"not hot dog\"]\n",
    "    )\n",
    ")\n",
    "\n",
    "\n",
    "tml.on_batch_end()"
   ]
  },
  {
   "cell_type": "code",
   "execution_count": 4,
   "metadata": {},
   "outputs": [
    {
     "data": {
      "text/plain": [
       "4.846153846153846"
      ]
     },
     "execution_count": 4,
     "metadata": {},
     "output_type": "execute_result"
    }
   ],
   "source": [
    "252/52"
   ]
  },
  {
   "cell_type": "code",
   "execution_count": 5,
   "metadata": {},
   "outputs": [],
   "source": [
    "p = np.array([[1,0],[1,0],[0,1]])\n",
    "g = np.array([[1,0],[1,0],[0,1]])"
   ]
  },
  {
   "cell_type": "code",
   "execution_count": 6,
   "metadata": {},
   "outputs": [
    {
     "data": {
      "text/plain": [
       "array([[ True,  True],\n",
       "       [ True,  True],\n",
       "       [ True,  True]])"
      ]
     },
     "execution_count": 6,
     "metadata": {},
     "output_type": "execute_result"
    }
   ],
   "source": [
    "(p>0.5) * (g > 0.5) + (p < 0.5) * (g < 0.5)"
   ]
  },
  {
   "cell_type": "code",
   "execution_count": null,
   "metadata": {},
   "outputs": [],
   "source": []
  }
 ],
 "metadata": {
  "kernelspec": {
   "display_name": "Python 3",
   "language": "python",
   "name": "python3"
  },
  "language_info": {
   "codemirror_mode": {
    "name": "ipython",
    "version": 3
   },
   "file_extension": ".py",
   "mimetype": "text/x-python",
   "name": "python",
   "nbconvert_exporter": "python",
   "pygments_lexer": "ipython3",
   "version": "3.8.5"
  }
 },
 "nbformat": 4,
 "nbformat_minor": 4
}
