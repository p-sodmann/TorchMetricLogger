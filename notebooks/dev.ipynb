{
 "cells": [
  {
   "cell_type": "code",
   "execution_count": 1,
   "metadata": {},
   "outputs": [],
   "source": [
    "from TorchMetricLogger import TorchMetricLogger as TML\n",
    "from TorchMetricLogger import TmlMetric, TmlMetricFunction, TMLBinaryAccuracy, TMLDiceCoefficient, TMLF1, TMLMean\n",
    "import torch"
   ]
  },
  {
   "cell_type": "code",
   "execution_count": 2,
   "metadata": {},
   "outputs": [],
   "source": [
    "tml = TML()\n",
    "\n",
    "p_1d = torch.ones((10, 5))\n",
    "y_1d = torch.ones((10, 5))\n",
    "\n",
    "p_1d[:, 3:] = 0\n",
    "\n",
    "p_2d = torch.ones((10, 5))\n",
    "y_2d = torch.ones((10, 5))\n",
    "\n",
    "p_2d[0] = 0\n",
    "\n",
    "p_2d[3, 3] = 0\n",
    "\n",
    "w = torch.ones(10, 5)\n",
    "w[3,3] = 0\n",
    "\n",
    "tml(\n",
    "    miau=TmlMetric(p_2d, y_2d, class_names=[\"0\", \"1\", \"2\", \"3\", \"4\"], metric_class=TMLF1, weights = w),\n",
    ")"
   ]
  },
  {
   "cell_type": "code",
   "execution_count": 3,
   "metadata": {},
   "outputs": [
    {
     "data": {
      "text/plain": [
       "defaultdict(list, {'tp': [44.0], 'fp': [5.0], 'fn': [0.0]})"
      ]
     },
     "execution_count": 3,
     "metadata": {},
     "output_type": "execute_result"
    }
   ],
   "source": [
    "tml.metrics[\"miau\"].partial"
   ]
  },
  {
   "cell_type": "code",
   "execution_count": 4,
   "metadata": {},
   "outputs": [],
   "source": [
    "tml.on_batch_end()"
   ]
  },
  {
   "cell_type": "code",
   "execution_count": 6,
   "metadata": {},
   "outputs": [
    {
     "data": {
      "text/plain": [
       "[0.94623655]"
      ]
     },
     "execution_count": 6,
     "metadata": {},
     "output_type": "execute_result"
    }
   ],
   "source": [
    "tml.metrics[\"miau\"].history"
   ]
  },
  {
   "cell_type": "code",
   "execution_count": 7,
   "metadata": {},
   "outputs": [],
   "source": [
    "tml = TML()\n",
    "p_2d = torch.ones((10, 5))\n",
    "y_2d = torch.ones((10, 5))\n",
    "\n",
    "p_2d[0] = 0\n",
    "\n",
    "p_2d[3, 3] = 0\n",
    "\n",
    "w = torch.ones(10, 5)\n",
    "w[3,3] = 0\n",
    "\n",
    "tml(\n",
    "    miau=TmlMetric(p_2d, y_2d, class_names=[\"0\", \"1\", \"2\", \"3\", \"4\"], metric_class=TMLDiceCoefficient),\n",
    ")"
   ]
  },
  {
   "cell_type": "code",
   "execution_count": 8,
   "metadata": {},
   "outputs": [],
   "source": [
    "tml(\n",
    "    miau=TmlMetric(p_2d, y_2d, class_names=[\"0\", \"1\", \"2\", \"3\", \"4\"], metric_class=TMLDiceCoefficient),\n",
    ")"
   ]
  },
  {
   "cell_type": "code",
   "execution_count": 9,
   "metadata": {},
   "outputs": [
    {
     "data": {
      "text/plain": [
       "[7]"
      ]
     },
     "execution_count": 9,
     "metadata": {},
     "output_type": "execute_result"
    }
   ],
   "source": [
    "import numpy as np\n",
    "np.array([7]).tolist()"
   ]
  },
  {
   "cell_type": "code",
   "execution_count": null,
   "metadata": {},
   "outputs": [],
   "source": [
    "tml.metrics.keys()"
   ]
  },
  {
   "cell_type": "code",
   "execution_count": null,
   "metadata": {},
   "outputs": [],
   "source": [
    "tml.metrics[\"miau_3\"].partial"
   ]
  },
  {
   "cell_type": "code",
   "execution_count": null,
   "metadata": {},
   "outputs": [],
   "source": [
    "tml.metrics[\"miau\"].reduce()"
   ]
  },
  {
   "cell_type": "code",
   "execution_count": 1,
   "metadata": {},
   "outputs": [
    {
     "name": "stdout",
     "output_type": "stream",
     "text": [
      "{'metric': 2.0, 'weights': array([1.])}\n",
      "{'metric': 1.9591836734693877, 'weights': array([1.])}\n",
      "{'metric': 1.9183673469387754, 'weights': array([1.])}\n",
      "{'metric': 1.8775510204081634, 'weights': array([1.])}\n",
      "{'metric': 1.836734693877551, 'weights': array([1.])}\n",
      "{'metric': 1.7959183673469388, 'weights': array([1.])}\n",
      "{'metric': 1.7551020408163265, 'weights': array([1.])}\n",
      "{'metric': 1.7142857142857144, 'weights': array([1.])}\n",
      "{'metric': 1.6734693877551021, 'weights': array([1.])}\n",
      "{'metric': 1.6326530612244898, 'weights': array([1.])}\n",
      "{'metric': 1.5918367346938775, 'weights': array([1.])}\n",
      "{'metric': 1.5510204081632653, 'weights': array([1.])}\n",
      "{'metric': 1.510204081632653, 'weights': array([1.])}\n",
      "{'metric': 1.469387755102041, 'weights': array([1.])}\n",
      "{'metric': 1.4285714285714286, 'weights': array([1.])}\n",
      "{'metric': 1.3877551020408165, 'weights': array([1.])}\n",
      "{'metric': 1.3469387755102042, 'weights': array([1.])}\n",
      "{'metric': 1.306122448979592, 'weights': array([1.])}\n",
      "{'metric': 1.2653061224489797, 'weights': array([1.])}\n",
      "{'metric': 1.2244897959183674, 'weights': array([1.])}\n",
      "{'metric': 1.183673469387755, 'weights': array([1.])}\n",
      "{'metric': 1.1428571428571428, 'weights': array([1.])}\n",
      "{'metric': 1.1020408163265307, 'weights': array([1.])}\n",
      "{'metric': 1.0612244897959184, 'weights': array([1.])}\n",
      "{'metric': 1.0204081632653061, 'weights': array([1.])}\n",
      "{'metric': 0.9795918367346939, 'weights': array([1.])}\n",
      "{'metric': 0.9387755102040818, 'weights': array([1.])}\n",
      "{'metric': 0.8979591836734695, 'weights': array([1.])}\n",
      "{'metric': 0.8571428571428572, 'weights': array([1.])}\n",
      "{'metric': 0.8163265306122449, 'weights': array([1.])}\n",
      "{'metric': 0.7755102040816328, 'weights': array([1.])}\n",
      "{'metric': 0.7346938775510206, 'weights': array([1.])}\n",
      "{'metric': 0.6938775510204083, 'weights': array([1.])}\n",
      "{'metric': 0.653061224489796, 'weights': array([1.])}\n",
      "{'metric': 0.6122448979591837, 'weights': array([1.])}\n",
      "{'metric': 0.5714285714285716, 'weights': array([1.])}\n",
      "{'metric': 0.5306122448979593, 'weights': array([1.])}\n",
      "{'metric': 0.48979591836734704, 'weights': array([1.])}\n",
      "{'metric': 0.44897959183673475, 'weights': array([1.])}\n",
      "{'metric': 0.4081632653061227, 'weights': array([1.])}\n",
      "{'metric': 0.3673469387755104, 'weights': array([1.])}\n",
      "{'metric': 0.3265306122448981, 'weights': array([1.])}\n",
      "{'metric': 0.2857142857142858, 'weights': array([1.])}\n",
      "{'metric': 0.24489795918367352, 'weights': array([1.])}\n",
      "{'metric': 0.20408163265306145, 'weights': array([1.])}\n",
      "{'metric': 0.16326530612244916, 'weights': array([1.])}\n",
      "{'metric': 0.12244897959183687, 'weights': array([1.])}\n",
      "{'metric': 0.08163265306122458, 'weights': array([1.])}\n",
      "{'metric': 0.04081632653061229, 'weights': array([1.])}\n",
      "{'metric': 0.0, 'weights': array([1.])}\n"
     ]
    }
   ],
   "source": [
    "from TorchMetricLogger import TorchMetricLogger as TML\n",
    "from TorchMetricLogger import TmlMetric, TmlMetricFunction, TMLBinaryAccuracy, TMLDiceCoefficient, TMLF1, TMLMean\n",
    "import torch\n",
    "import numpy as np\n",
    "\n",
    "# create a list of fake losses between 2 and 1\n",
    "loss = np.linspace(2.0, 0.0, num=50)\n",
    "\n",
    "tml = TML()\n",
    "\n",
    "# add them together as one batch\n",
    "for l in loss:\n",
    "    tml(loss=TmlMetric(None, l, TMLMean))\n",
    "\n",
    "tml.on_batch_end()\n",
    "\n",
    "# assert the average loss is 1\n",
    "#assert np.allclose(tml.metrics[\"loss\"].history, 1)"
   ]
  },
  {
   "cell_type": "code",
   "execution_count": 2,
   "metadata": {},
   "outputs": [
    {
     "data": {
      "text/plain": [
       "defaultdict(list,\n",
       "            {'metric': [2.0,\n",
       "              1.9591836734693877,\n",
       "              1.9183673469387754,\n",
       "              1.8775510204081634,\n",
       "              1.836734693877551,\n",
       "              1.7959183673469388,\n",
       "              1.7551020408163265,\n",
       "              1.7142857142857144,\n",
       "              1.6734693877551021,\n",
       "              1.6326530612244898,\n",
       "              1.5918367346938775,\n",
       "              1.5510204081632653,\n",
       "              1.510204081632653,\n",
       "              1.469387755102041,\n",
       "              1.4285714285714286,\n",
       "              1.3877551020408165,\n",
       "              1.3469387755102042,\n",
       "              1.306122448979592,\n",
       "              1.2653061224489797,\n",
       "              1.2244897959183674,\n",
       "              1.183673469387755,\n",
       "              1.1428571428571428,\n",
       "              1.1020408163265307,\n",
       "              1.0612244897959184,\n",
       "              1.0204081632653061,\n",
       "              0.9795918367346939,\n",
       "              0.9387755102040818,\n",
       "              0.8979591836734695,\n",
       "              0.8571428571428572,\n",
       "              0.8163265306122449,\n",
       "              0.7755102040816328,\n",
       "              0.7346938775510206,\n",
       "              0.6938775510204083,\n",
       "              0.653061224489796,\n",
       "              0.6122448979591837,\n",
       "              0.5714285714285716,\n",
       "              0.5306122448979593,\n",
       "              0.48979591836734704,\n",
       "              0.44897959183673475,\n",
       "              0.4081632653061227,\n",
       "              0.3673469387755104,\n",
       "              0.3265306122448981,\n",
       "              0.2857142857142858,\n",
       "              0.24489795918367352,\n",
       "              0.20408163265306145,\n",
       "              0.16326530612244916,\n",
       "              0.12244897959183687,\n",
       "              0.08163265306122458,\n",
       "              0.04081632653061229,\n",
       "              0.0],\n",
       "             'weights': [1.0,\n",
       "              1.0,\n",
       "              1.0,\n",
       "              1.0,\n",
       "              1.0,\n",
       "              1.0,\n",
       "              1.0,\n",
       "              1.0,\n",
       "              1.0,\n",
       "              1.0,\n",
       "              1.0,\n",
       "              1.0,\n",
       "              1.0,\n",
       "              1.0,\n",
       "              1.0,\n",
       "              1.0,\n",
       "              1.0,\n",
       "              1.0,\n",
       "              1.0,\n",
       "              1.0,\n",
       "              1.0,\n",
       "              1.0,\n",
       "              1.0,\n",
       "              1.0,\n",
       "              1.0,\n",
       "              1.0,\n",
       "              1.0,\n",
       "              1.0,\n",
       "              1.0,\n",
       "              1.0,\n",
       "              1.0,\n",
       "              1.0,\n",
       "              1.0,\n",
       "              1.0,\n",
       "              1.0,\n",
       "              1.0,\n",
       "              1.0,\n",
       "              1.0,\n",
       "              1.0,\n",
       "              1.0,\n",
       "              1.0,\n",
       "              1.0,\n",
       "              1.0,\n",
       "              1.0,\n",
       "              1.0,\n",
       "              1.0,\n",
       "              1.0,\n",
       "              1.0,\n",
       "              1.0,\n",
       "              1.0]})"
      ]
     },
     "execution_count": 2,
     "metadata": {},
     "output_type": "execute_result"
    }
   ],
   "source": [
    "tml.metrics[\"loss\"].partial"
   ]
  },
  {
   "cell_type": "code",
   "execution_count": null,
   "metadata": {},
   "outputs": [],
   "source": []
  }
 ],
 "metadata": {
  "kernelspec": {
   "display_name": "corcodan",
   "language": "python",
   "name": "corcodan"
  },
  "language_info": {
   "codemirror_mode": {
    "name": "ipython",
    "version": 3
   },
   "file_extension": ".py",
   "mimetype": "text/x-python",
   "name": "python",
   "nbconvert_exporter": "python",
   "pygments_lexer": "ipython3",
   "version": "3.7.8"
  }
 },
 "nbformat": 4,
 "nbformat_minor": 4
}
