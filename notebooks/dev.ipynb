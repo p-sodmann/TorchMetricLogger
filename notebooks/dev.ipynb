{
 "cells": [
  {
   "cell_type": "code",
   "execution_count": 1,
   "metadata": {},
   "outputs": [],
   "source": [
    "from TorchMetricLogger import TorchMetricLogger as TML\n",
    "from TorchMetricLogger import TmlMetric, TmlLoss, TmlMetricFunction, TMLBinaryAccuracy, TMLDiceCoefficient\n",
    "import torch"
   ]
  },
  {
   "cell_type": "code",
   "execution_count": 2,
   "metadata": {},
   "outputs": [],
   "source": [
    "tml = TML()\n",
    "\n",
    "p_1d = torch.ones((10, 5))\n",
    "y_1d = torch.ones((10, 5))\n",
    "\n",
    "p_1d[:, 3:] = 0\n",
    "\n",
    "p_2d = torch.ones((10, 5, 5))\n",
    "y_2d = torch.ones((10, 5, 5))\n",
    "\n",
    "p_2d[0] = 0\n",
    "\n",
    "w = torch.ones(10)\n",
    "w[0] = 0\n",
    "\n",
    "tml.log(\n",
    "    meow=TmlMetric(p_1d, y_1d, metric_class=TMLBinaryAccuracy), \n",
    "    miau=TmlMetric(p_1d, y_1d, metric_class=TMLDiceCoefficient),\n",
    "    wuff=TmlMetric(p_2d, y_2d, weights=w, metric_class=TMLDiceCoefficient)\n",
    ")"
   ]
  },
  {
   "cell_type": "code",
   "execution_count": 3,
   "metadata": {},
   "outputs": [
    {
     "data": {
      "text/plain": [
       "0.6"
      ]
     },
     "execution_count": 3,
     "metadata": {},
     "output_type": "execute_result"
    }
   ],
   "source": [
    "tml.metrics[\"meow\"].reduce()"
   ]
  },
  {
   "cell_type": "code",
   "execution_count": 4,
   "metadata": {},
   "outputs": [
    {
     "data": {
      "text/plain": [
       "[[array([0.03846154, 1.        , 1.        , 1.        , 1.        ,\n",
       "         1.        , 1.        , 1.        , 1.        , 1.        ],\n",
       "        dtype=float32),\n",
       "  array([0., 1., 1., 1., 1., 1., 1., 1., 1., 1.], dtype=float32)]]"
      ]
     },
     "execution_count": 4,
     "metadata": {},
     "output_type": "execute_result"
    }
   ],
   "source": [
    "tml.metrics[\"wuff\"].partial"
   ]
  },
  {
   "cell_type": "code",
   "execution_count": 5,
   "metadata": {},
   "outputs": [
    {
     "data": {
      "text/plain": [
       "1.0"
      ]
     },
     "execution_count": 5,
     "metadata": {},
     "output_type": "execute_result"
    }
   ],
   "source": [
    "tml.metrics[\"wuff\"].reduce()"
   ]
  },
  {
   "cell_type": "code",
   "execution_count": 6,
   "metadata": {},
   "outputs": [
    {
     "data": {
      "text/plain": [
       "0.7777777910232544"
      ]
     },
     "execution_count": 6,
     "metadata": {},
     "output_type": "execute_result"
    }
   ],
   "source": [
    "tml.metrics[\"miau\"].reduce()"
   ]
  },
  {
   "cell_type": "code",
   "execution_count": null,
   "metadata": {},
   "outputs": [],
   "source": []
  }
 ],
 "metadata": {
  "kernelspec": {
   "display_name": "corcodan",
   "language": "python",
   "name": "corcodan"
  },
  "language_info": {
   "codemirror_mode": {
    "name": "ipython",
    "version": 3
   },
   "file_extension": ".py",
   "mimetype": "text/x-python",
   "name": "python",
   "nbconvert_exporter": "python",
   "pygments_lexer": "ipython3",
   "version": "3.7.8"
  }
 },
 "nbformat": 4,
 "nbformat_minor": 4
}
