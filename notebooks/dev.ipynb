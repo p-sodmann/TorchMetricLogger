{
 "cells": [
  {
   "cell_type": "code",
   "execution_count": 26,
   "metadata": {},
   "outputs": [
    {
     "name": "stdout",
     "output_type": "stream",
     "text": [
      "Processing e:\\python\\torchmetriclogger\n",
      "Building wheels for collected packages: torchmetriclogger\n",
      "  Building wheel for torchmetriclogger (setup.py): started\n",
      "  Building wheel for torchmetriclogger (setup.py): finished with status 'done'\n",
      "  Created wheel for torchmetriclogger: filename=torchmetriclogger-0.1-py3-none-any.whl size=6923 sha256=4ca6fc5db50f6980ec952bcb1a87ae950ec5c7e6b8a4e48f3b3e12e2e244a439\n",
      "  Stored in directory: C:\\Users\\psodm\\AppData\\Local\\Temp\\pip-ephem-wheel-cache-cxkvsjdj\\wheels\\dd\\86\\ba\\63aac680f03d86d911b4cbb84d078c58c3639601537af4dfcb\n",
      "Successfully built torchmetriclogger\n",
      "Installing collected packages: torchmetriclogger\n",
      "  Attempting uninstall: torchmetriclogger\n",
      "    Found existing installation: torchmetriclogger 0.1\n",
      "    Uninstalling torchmetriclogger-0.1:\n",
      "      Successfully uninstalled torchmetriclogger-0.1\n",
      "Successfully installed torchmetriclogger-0.1\n"
     ]
    }
   ],
   "source": [
    "!pip install .."
   ]
  },
  {
   "cell_type": "code",
   "execution_count": 1,
   "metadata": {},
   "outputs": [],
   "source": [
    "from TorchMetricLogger import TorchMetricLogger as TML\n",
    "from TorchMetricLogger import TmlMetric, TmlMetricFunction, TMLBinaryAccuracy, TMLDiceCoefficient, TMLF1, TMLMean\n",
    "import torch"
   ]
  },
  {
   "cell_type": "code",
   "execution_count": 2,
   "metadata": {},
   "outputs": [],
   "source": [
    "tml = TML()\n",
    "\n",
    "p_1d = torch.ones((10, 5))\n",
    "y_1d = torch.ones((10, 5))\n",
    "\n",
    "p_1d[:, 3:] = 0\n",
    "\n",
    "p_2d = torch.ones((10, 5))\n",
    "y_2d = torch.ones((10, 5))\n",
    "\n",
    "p_2d[0] = 0\n",
    "\n",
    "p_2d[3, 3] = 0\n",
    "\n",
    "w = torch.ones(10, 5)\n",
    "w[3,3] = 0\n",
    "\n",
    "tml(\n",
    "    miau=TmlMetric(p_2d, y_2d, class_names=[\"0\", \"1\", \"2\", \"3\", \"4\"], metric_class=TMLF1, weights = w),\n",
    ")"
   ]
  },
  {
   "cell_type": "code",
   "execution_count": 3,
   "metadata": {},
   "outputs": [
    {
     "data": {
      "text/plain": [
       "defaultdict(list, {})"
      ]
     },
     "execution_count": 3,
     "metadata": {},
     "output_type": "execute_result"
    }
   ],
   "source": [
    "tml.metrics[\"miau\"].history"
   ]
  },
  {
   "cell_type": "code",
   "execution_count": 4,
   "metadata": {},
   "outputs": [
    {
     "data": {
      "text/plain": [
       "{'miau': {'mean': 0.9462365591397646},\n",
       " 'miau_0': {'mean': 0.9473684210525318},\n",
       " 'miau_1': {'mean': 0.9473684210525318},\n",
       " 'miau_2': {'mean': 0.9473684210525318},\n",
       " 'miau_3': {'mean': 0.9411764705881246},\n",
       " 'miau_4': {'mean': 0.9473684210525318}}"
      ]
     },
     "execution_count": 4,
     "metadata": {},
     "output_type": "execute_result"
    }
   ],
   "source": [
    "tml.on_batch_end()"
   ]
  },
  {
   "cell_type": "code",
   "execution_count": null,
   "metadata": {},
   "outputs": [],
   "source": []
  },
  {
   "cell_type": "code",
   "execution_count": 5,
   "metadata": {},
   "outputs": [
    {
     "data": {
      "text/plain": [
       "defaultdict(list, {'mean': [0.9462365591397646]})"
      ]
     },
     "execution_count": 5,
     "metadata": {},
     "output_type": "execute_result"
    }
   ],
   "source": [
    "tml.metrics[\"miau\"].history"
   ]
  },
  {
   "cell_type": "code",
   "execution_count": 6,
   "metadata": {},
   "outputs": [],
   "source": [
    "tml = TML()\n",
    "p_2d = torch.ones((10, 5))\n",
    "y_2d = torch.ones((10, 5))\n",
    "\n",
    "p_2d[0] = 0\n",
    "\n",
    "p_2d[3, 3] = 0\n",
    "\n",
    "w = torch.ones(10, 5)\n",
    "w[3,3] = 0\n",
    "\n",
    "tml(\n",
    "    miau=TmlMetric(p_2d, y_2d, class_names=[\"0\", \"1\", \"2\", \"3\", \"4\"], metric_class=TMLDiceCoefficient),\n",
    ")"
   ]
  },
  {
   "cell_type": "code",
   "execution_count": 7,
   "metadata": {},
   "outputs": [],
   "source": [
    "tml(\n",
    "    miau=TmlMetric(p_2d, y_2d, class_names=[\"0\", \"1\", \"2\", \"3\", \"4\"], metric_class=TMLDiceCoefficient),\n",
    ")"
   ]
  },
  {
   "cell_type": "code",
   "execution_count": 8,
   "metadata": {},
   "outputs": [
    {
     "data": {
      "text/plain": [
       "[7]"
      ]
     },
     "execution_count": 8,
     "metadata": {},
     "output_type": "execute_result"
    }
   ],
   "source": [
    "import numpy as np\n",
    "np.array([7]).tolist()"
   ]
  },
  {
   "cell_type": "code",
   "execution_count": 9,
   "metadata": {},
   "outputs": [
    {
     "data": {
      "text/plain": [
       "dict_keys(['miau', 'miau_0', 'miau_1', 'miau_2', 'miau_3', 'miau_4'])"
      ]
     },
     "execution_count": 9,
     "metadata": {},
     "output_type": "execute_result"
    }
   ],
   "source": [
    "tml.metrics.keys()"
   ]
  },
  {
   "cell_type": "code",
   "execution_count": 10,
   "metadata": {},
   "outputs": [
    {
     "data": {
      "text/plain": [
       "defaultdict(list,\n",
       "            {'metric': [0.5,\n",
       "              1.0,\n",
       "              1.0,\n",
       "              0.5,\n",
       "              1.0,\n",
       "              1.0,\n",
       "              1.0,\n",
       "              1.0,\n",
       "              1.0,\n",
       "              1.0,\n",
       "              0.5,\n",
       "              1.0,\n",
       "              1.0,\n",
       "              0.5,\n",
       "              1.0,\n",
       "              1.0,\n",
       "              1.0,\n",
       "              1.0,\n",
       "              1.0,\n",
       "              1.0],\n",
       "             'weights': [1.0,\n",
       "              1.0,\n",
       "              1.0,\n",
       "              1.0,\n",
       "              1.0,\n",
       "              1.0,\n",
       "              1.0,\n",
       "              1.0,\n",
       "              1.0,\n",
       "              1.0,\n",
       "              1.0,\n",
       "              1.0,\n",
       "              1.0,\n",
       "              1.0,\n",
       "              1.0,\n",
       "              1.0,\n",
       "              1.0,\n",
       "              1.0,\n",
       "              1.0,\n",
       "              1.0]})"
      ]
     },
     "execution_count": 10,
     "metadata": {},
     "output_type": "execute_result"
    }
   ],
   "source": [
    "tml.metrics[\"miau_3\"].partial"
   ]
  },
  {
   "cell_type": "code",
   "execution_count": 11,
   "metadata": {},
   "outputs": [
    {
     "data": {
      "text/plain": [
       "{'mean': 0.9066666647791862, 'median': 1.0, 'min': 0.16666667, 'max': 1.0}"
      ]
     },
     "execution_count": 11,
     "metadata": {},
     "output_type": "execute_result"
    }
   ],
   "source": [
    "tml.metrics[\"miau\"].reduce()"
   ]
  },
  {
   "cell_type": "code",
   "execution_count": 12,
   "metadata": {},
   "outputs": [
    {
     "data": {
      "text/plain": [
       "defaultdict(list,\n",
       "            {'mean': [0.9066666647791862],\n",
       "             'median': [1.0],\n",
       "             'min': [0.16666667],\n",
       "             'max': [1.0]})"
      ]
     },
     "execution_count": 12,
     "metadata": {},
     "output_type": "execute_result"
    }
   ],
   "source": [
    "tml.metrics[\"miau\"].history"
   ]
  },
  {
   "cell_type": "code",
   "execution_count": 13,
   "metadata": {},
   "outputs": [
    {
     "data": {
      "text/plain": [
       "{'loss': {'mean': 1.0000000000000002, 'median': 1.0, 'min': 0.0, 'max': 2.0}}"
      ]
     },
     "execution_count": 13,
     "metadata": {},
     "output_type": "execute_result"
    }
   ],
   "source": [
    "from TorchMetricLogger import TorchMetricLogger as TML\n",
    "from TorchMetricLogger import TmlMetric, TmlMetricFunction, TMLBinaryAccuracy, TMLDiceCoefficient, TMLF1, TMLMean\n",
    "import torch\n",
    "import numpy as np\n",
    "\n",
    "# create a list of fake losses between 2 and 1\n",
    "loss = np.linspace(2.0, 0.0, num=50)\n",
    "\n",
    "tml = TML()\n",
    "\n",
    "# add them together as one batch\n",
    "for l in loss:\n",
    "    tml(loss=TmlMetric(None, l, TMLMean))\n",
    "\n",
    "tml.on_batch_end()\n",
    "\n",
    "# assert the average loss is 1\n",
    "#assert np.allclose(tml.metrics[\"loss\"].history, 1)"
   ]
  },
  {
   "cell_type": "code",
   "execution_count": 14,
   "metadata": {},
   "outputs": [
    {
     "data": {
      "text/plain": [
       "defaultdict(list, {})"
      ]
     },
     "execution_count": 14,
     "metadata": {},
     "output_type": "execute_result"
    }
   ],
   "source": [
    "tml.metrics[\"loss\"].partial"
   ]
  },
  {
   "cell_type": "code",
   "execution_count": null,
   "metadata": {},
   "outputs": [],
   "source": []
  },
  {
   "cell_type": "code",
   "execution_count": null,
   "metadata": {},
   "outputs": [],
   "source": []
  }
 ],
 "metadata": {
  "kernelspec": {
   "display_name": "Python 3",
   "language": "python",
   "name": "python3"
  },
  "language_info": {
   "codemirror_mode": {
    "name": "ipython",
    "version": 3
   },
   "file_extension": ".py",
   "mimetype": "text/x-python",
   "name": "python",
   "nbconvert_exporter": "python",
   "pygments_lexer": "ipython3",
   "version": "3.8.5"
  }
 },
 "nbformat": 4,
 "nbformat_minor": 4
}
