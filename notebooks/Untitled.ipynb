{
 "cells": [
  {
   "cell_type": "markdown",
   "metadata": {},
   "source": [
    "# Setup the metric\n",
    "we need a metric \"function\" class.  \n",
    "It should only do the logic needed,   \n",
    "in our case, we want to measure how often the label and the prediction are the same"
   ]
  },
  {
   "cell_type": "code",
   "execution_count": null,
   "metadata": {},
   "outputs": [],
   "source": [
    "from TorchMetricLogger import TorchMetricLogger as TML\n",
    "from TorchMetricLogger import TmlMetric, TmlLoss, TmlMetricFunction\n",
    "import torch\n",
    "\n",
    "class TMLBinaryAccuracy(TmlMetricFunction):\n",
    "    def __init__(self):\n",
    "        super().__init__()\n",
    "        \n",
    "    def calculate(self, gold_labels, predictions):\n",
    "        return (gold_labels > 0.5) == (predictions > 0.5)\n",
    "\n",
    "binary_accuracy = TMLBinaryAccuracy()"
   ]
  },
  {
   "cell_type": "markdown",
   "metadata": {},
   "source": [
    "We now simulate one epoch with 3 batches.  \n",
    "We can also set weights, to e.g. ignore some samples or make them less important.  \n",
    "Here we set every missclassification with a weight of zero to basically ignore it."
   ]
  },
  {
   "cell_type": "code",
   "execution_count": null,
   "metadata": {},
   "outputs": [],
   "source": [
    "labels = torch.ones(100)\n",
    "predictions = torch.zeros(100)\n",
    "weights = torch.zeros(100)\n",
    "\n",
    "tml = TML()\n",
    "\n",
    "tml(partial=True, \n",
    "    train_bin_accuracy=TmlMetric(labels, predictions, binary_accuracy, weights=weights)\n",
    ")\n",
    "\n",
    "predictions = torch.ones(100)\n",
    "weights = torch.ones(100)\n",
    "\n",
    "tml(partial=True, \n",
    "    train_bin_accuracy=TmlMetric(labels, predictions, binary_accuracy, weights=weights)\n",
    ")\n",
    "\n",
    "half_positive = torch.zeros(100)\n",
    "half_positive[50:] = 1\n",
    "tml(partial=True, \n",
    "    train_bin_accuracy=TmlMetric(labels, half_positive, binary_accuracy, weights=half_positive)\n",
    ")\n",
    "\n",
    "tml.batch_end()\n",
    "\n",
    "assert tml.history[\"train_bin_accuracy\"] == [1] "
   ]
  },
  {
   "cell_type": "code",
   "execution_count": null,
   "metadata": {},
   "outputs": [],
   "source": []
  }
 ],
 "metadata": {
  "kernelspec": {
   "display_name": "Python 3",
   "language": "python",
   "name": "python3"
  },
  "language_info": {
   "codemirror_mode": {
    "name": "ipython",
    "version": 3
   },
   "file_extension": ".py",
   "mimetype": "text/x-python",
   "name": "python",
   "nbconvert_exporter": "python",
   "pygments_lexer": "ipython3",
   "version": "3.8.3"
  }
 },
 "nbformat": 4,
 "nbformat_minor": 4
}
