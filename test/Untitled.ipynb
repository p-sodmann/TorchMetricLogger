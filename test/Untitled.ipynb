{
 "cells": [
  {
   "cell_type": "code",
   "execution_count": 1,
   "metadata": {},
   "outputs": [],
   "source": [
    "from TorchMetricLogger import TorchMetricLogger as TML\n",
    "from TorchMetricLogger import TmlMetric, TmlLoss\n",
    "import torch"
   ]
  },
  {
   "cell_type": "code",
   "execution_count": 2,
   "metadata": {},
   "outputs": [],
   "source": [
    "def binary_accuracy(label, prediction):\n",
    "    prediction = (prediction > 0.5).double()\n",
    "    tp = (label == prediction).double()\n",
    "    return torch.mean(tp)"
   ]
  },
  {
   "cell_type": "code",
   "execution_count": 17,
   "metadata": {},
   "outputs": [
    {
     "name": "stdout",
     "output_type": "stream",
     "text": [
      "defaultdict(<class 'list'>, {'train_bin_accuracy': [0.5], 'train_bin_accuracy_zero': [0.5], 'train_bin_accuracy_one': [0.5], 'train_bin_accuracy_two': [0.5], 'train_bin_accuracy_three': [0.5]})\n"
     ]
    }
   ],
   "source": [
    "labels = torch.ones((100, 4))\n",
    "predictions = torch.zeros((100, 4))\n",
    "\n",
    "tml = TML()\n",
    "\n",
    "tml(partial=True, \n",
    "    train_bin_accuracy=TmlMetric(labels, predictions, binary_accuracy, [\"zero\", \"one\", \"two\", \"three\"])\n",
    ")\n",
    "\n",
    "predictions = torch.ones((100, 4))\n",
    "tml(partial=True, \n",
    "    train_bin_accuracy=TmlMetric(labels, predictions, binary_accuracy, [\"zero\", \"one\", \"two\", \"three\"])\n",
    ")\n",
    "\n",
    "half_positive = torch.zeros((100, 4))\n",
    "half_positive[50:, :] = 1\n",
    "tml(partial=True, \n",
    "    train_bin_accuracy=TmlMetric(labels, half_positive, binary_accuracy, [\"zero\", \"one\", \"two\", \"three\"])\n",
    ")\n",
    "\n",
    "tml.batch_end()\n",
    "print(tml.history)"
   ]
  },
  {
   "cell_type": "code",
   "execution_count": 4,
   "metadata": {},
   "outputs": [
    {
     "data": {
      "text/plain": [
       "dict_keys(['train_bin_accuracy', 'train_bin_accuracy_zero', 'train_bin_accuracy_one', 'train_bin_accuracy_two', 'train_bin_accuracy_three'])"
      ]
     },
     "execution_count": 4,
     "metadata": {},
     "output_type": "execute_result"
    }
   ],
   "source": [
    "tml.history.keys()"
   ]
  },
  {
   "cell_type": "code",
   "execution_count": 5,
   "metadata": {},
   "outputs": [],
   "source": [
    "tml = TML()"
   ]
  },
  {
   "cell_type": "code",
   "execution_count": 6,
   "metadata": {},
   "outputs": [],
   "source": [
    "def binary_accuracy(label, prediction):\n",
    "    prediction = (prediction > 0.5).double()\n",
    "    tp = (label == prediction).double()\n",
    "    return torch.mean(tp)"
   ]
  },
  {
   "cell_type": "code",
   "execution_count": 7,
   "metadata": {},
   "outputs": [
    {
     "data": {
      "text/plain": [
       "tensor(0., dtype=torch.float64)"
      ]
     },
     "execution_count": 7,
     "metadata": {},
     "output_type": "execute_result"
    }
   ],
   "source": [
    "labels = torch.ones(100)\n",
    "predictions = torch.zeros(100)\n",
    "binary_accuracy(labels, predictions)"
   ]
  },
  {
   "cell_type": "code",
   "execution_count": 8,
   "metadata": {},
   "outputs": [
    {
     "ename": "NameError",
     "evalue": "name 'np' is not defined",
     "output_type": "error",
     "traceback": [
      "\u001b[1;31m---------------------------------------------------------------------------\u001b[0m",
      "\u001b[1;31mNameError\u001b[0m                                 Traceback (most recent call last)",
      "\u001b[1;32m<ipython-input-8-8aaffb99e170>\u001b[0m in \u001b[0;36m<module>\u001b[1;34m\u001b[0m\n\u001b[1;32m----> 1\u001b[1;33m \u001b[0mlabels\u001b[0m \u001b[1;33m=\u001b[0m \u001b[0mtorch\u001b[0m\u001b[1;33m.\u001b[0m\u001b[0mfrom_numpy\u001b[0m\u001b[1;33m(\u001b[0m\u001b[0mnp\u001b[0m\u001b[1;33m.\u001b[0m\u001b[0mones\u001b[0m\u001b[1;33m(\u001b[0m\u001b[1;36m100\u001b[0m\u001b[1;33m)\u001b[0m\u001b[1;33m)\u001b[0m\u001b[1;33m\u001b[0m\u001b[1;33m\u001b[0m\u001b[0m\n\u001b[0m\u001b[0;32m      2\u001b[0m \u001b[0mpredictions\u001b[0m \u001b[1;33m=\u001b[0m \u001b[0mtorch\u001b[0m\u001b[1;33m.\u001b[0m\u001b[0mfrom_numpy\u001b[0m\u001b[1;33m(\u001b[0m\u001b[0mnp\u001b[0m\u001b[1;33m.\u001b[0m\u001b[0mones\u001b[0m\u001b[1;33m(\u001b[0m\u001b[1;36m100\u001b[0m\u001b[1;33m)\u001b[0m\u001b[1;33m)\u001b[0m\u001b[1;33m\u001b[0m\u001b[1;33m\u001b[0m\u001b[0m\n\u001b[0;32m      3\u001b[0m \u001b[0mbinary_accuracy\u001b[0m\u001b[1;33m(\u001b[0m\u001b[0mlabels\u001b[0m\u001b[1;33m,\u001b[0m \u001b[0mpredictions\u001b[0m\u001b[1;33m)\u001b[0m\u001b[1;33m\u001b[0m\u001b[1;33m\u001b[0m\u001b[0m\n",
      "\u001b[1;31mNameError\u001b[0m: name 'np' is not defined"
     ]
    }
   ],
   "source": [
    "labels = torch.from_numpy(np.ones(100))\n",
    "predictions = torch.from_numpy(np.ones(100))\n",
    "binary_accuracy(labels, predictions)"
   ]
  },
  {
   "cell_type": "code",
   "execution_count": null,
   "metadata": {},
   "outputs": [],
   "source": [
    "labels = torch.from_numpy(np.ones(100))\n",
    "\n",
    "half_positive = np.zeros(100)\n",
    "half_positive[50:] = 1\n",
    "predictions = torch.from_numpy(half_positive)\n",
    "binary_accuracy(labels, predictions)"
   ]
  },
  {
   "cell_type": "code",
   "execution_count": null,
   "metadata": {},
   "outputs": [],
   "source": [
    "metric_logger(partial=True, \n",
    "            train_bin_accuracy=(sample[\"y\"], output_y, [\"Class_one\", \"Class_two\", \"Class_three\", \"Class_four\"], binary_accuracy), \n",
    "            train_loss = ([loss])\n",
    "           )"
   ]
  }
 ],
 "metadata": {
  "kernelspec": {
   "display_name": "Python 3",
   "language": "python",
   "name": "python3"
  },
  "language_info": {
   "codemirror_mode": {
    "name": "ipython",
    "version": 3
   },
   "file_extension": ".py",
   "mimetype": "text/x-python",
   "name": "python",
   "nbconvert_exporter": "python",
   "pygments_lexer": "ipython3",
   "version": "3.8.3"
  }
 },
 "nbformat": 4,
 "nbformat_minor": 4
}
